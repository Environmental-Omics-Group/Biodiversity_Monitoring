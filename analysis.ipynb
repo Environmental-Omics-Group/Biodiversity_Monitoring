{
 "cells": [
  {
   "cell_type": "code",
   "execution_count": null,
   "metadata": {},
   "outputs": [],
   "source": [
    "import os, string, re\n",
    "import numpy as np\n",
    "import plotly.graph_objects as go\n",
    "from operator import itemgetter\n",
    "from itertools import product\n",
    "from collections import OrderedDict\n",
    "from scipy.stats import fisher_exact, chi2_contingency\n",
    "from statsmodels.stats.multitest import multipletests\n",
    "from plotly.subplots import make_subplots\n",
    "from fitter import Fitter\n",
    "from collections import defaultdict\n",
    "from kagami.comm import *\n",
    "from kagami.dtypes import Table\n",
    "from kagami.portals import tablePortal\n",
    "from kagami.wrappers import RWrapper\n",
    "from acs.decomposition import RGCCA, SGCCA\n",
    "from acs.plots import scatter_plot"
   ]
  },
  {
   "cell_type": "markdown",
   "metadata": {},
   "source": [
    "# Functions\n",
    "\n",
    "---"
   ]
  },
  {
   "cell_type": "markdown",
   "metadata": {},
   "source": [
    "## Filtering"
   ]
  },
  {
   "cell_type": "code",
   "execution_count": null,
   "metadata": {},
   "outputs": [],
   "source": [
    "def _abandon_filter(tab):\n",
    "    print(tab.shape, end = ' -> ')\n",
    "\n",
    "    rcut = np.mean(np.sum(tab.X_,axis = 1))*0.001\n",
    "    tab = tab[:,np.var(tab.X_, axis = 0) > 0]\n",
    "    tab = tab[:,np.sum(~np.isclose(tab.X_,0), axis = 0) >= 3]\n",
    "    tab = tab[:,np.sum(tab.X_ >= rcut, axis = 0) > 0]\n",
    "\n",
    "    print(tab.shape)\n",
    "    return tab"
   ]
  },
  {
   "cell_type": "code",
   "execution_count": null,
   "metadata": {},
   "outputs": [],
   "source": [
    "def _taxtab(otutab, grp):\n",
    "    otus = np.array(otutab.cols_)\n",
    "    taxa = np.array(otutab.cidx_[grp])\n",
    "    utax = np.unique(taxa)\n",
    "\n",
    "    ttab = Table(\n",
    "        np.vstack(smap(utax, lambda t: np.sum(otutab[:,taxa == t].X_, axis = 1))).T,\n",
    "        rownames = otutab.rownames,\n",
    "        colnames = utax,\n",
    "    )\n",
    "    \n",
    "    return ttab"
   ]
  },
  {
   "cell_type": "markdown",
   "metadata": {},
   "source": [
    "## Identify significant corr"
   ]
  },
  {
   "cell_type": "code",
   "execution_count": null,
   "metadata": {},
   "outputs": [],
   "source": [
    "def _corr(x,y,p,side):\n",
    "    vx,vy = (x != 0), (y != 0)\n",
    "    xp,yp = np.sum(vx)/len(x), np.sum(vy)/len(y)\n",
    "\n",
    "    if (np.sum(vx) < 3 or np.sum(vy) < 3) or \\\n",
    "       (np.sum(np.logical_and(~vx, ~vy))/np.sum(np.logical_or(vx, vy)) > 0.5) or \\\n",
    "       (np.isclose(np.var(x),0) or np.isclose(np.var(y),0)): return xp,yp,np.nan,np.nan\n",
    "\n",
    "    cc = np.corrcoef(x,y)[0,1]\n",
    "    \n",
    "    pv = np.nan if missing(p) else \\\n",
    "        (np.sum(p < cc) / p.shape[0]) if side == 'lower' else \\\n",
    "        (np.sum(p > cc) / p.shape[0]) if side == 'upper' else \\\n",
    "       ((np.sum(p < cc) if cc < 0 else np.sum(p > cc)) / p.shape[0])\n",
    "    return xp,yp,cc,pv"
   ]
  },
  {
   "cell_type": "code",
   "execution_count": null,
   "metadata": {},
   "outputs": [],
   "source": [
    "def _fdr(pvs):\n",
    "    if len(pvs) == 0: return []\n",
    "    return multipletests(pvs, method = 'fdr_bh')[1]"
   ]
  },
  {
   "cell_type": "code",
   "execution_count": null,
   "metadata": {},
   "outputs": [],
   "source": [
    "def _corrw(x,y,wsize,pmv,side):\n",
    "    fracs = smap(range(len(x)-wsize+1), lambda i: slice(i,i+wsize))\n",
    "    cores = smap(enumerate(fracs), unpack(lambda i,f: (i,*_corr(x[f],y[f],pmv,side))))\n",
    "\n",
    "    pval = np.array(lzip(*cores)[-1])    \n",
    "    padj = np.ones(len(cores)) * np.nan\n",
    "    padj[~np.isnan(pval)] = _fdr(pval[~np.isnan(pval)])\n",
    "    \n",
    "    cores = [(*c,p) for c,p in zip(cores,padj)]\n",
    "    return cores"
   ]
  },
  {
   "cell_type": "markdown",
   "metadata": {},
   "source": [
    "## Identify multiple significant corr over sliding windows"
   ]
  },
  {
   "cell_type": "code",
   "execution_count": null,
   "metadata": {},
   "outputs": [],
   "source": [
    "def _re_conv_fname(fname):\n",
    "    vchrs = \"-_.() %s%s\" % (string.ascii_letters, string.digits)\n",
    "    fname = ''.join(c for c in fname if c in vchrs)\n",
    "    fname = fname.replace(' ','_')\n",
    "    return fname"
   ]
  },
  {
   "cell_type": "code",
   "execution_count": null,
   "metadata": {},
   "outputs": [],
   "source": [
    "def _sig_corr(chm, tax, pmxpath, minwsize, rcut, pcut, sign, side):\n",
    "    assert minwsize > 0\n",
    "    assert 0 <= rcut <= 1\n",
    "    assert missing(pcut) or 0 <= pcut <= 1\n",
    "    assert sign in ('pos', 'neg', 'both')\n",
    "    assert side in ('upper', 'lower', 'both')\n",
    "    \n",
    "    pfile = os.path.join(\n",
    "        pmxpath,\n",
    "        _re_conv_fname(f'permutation_null_{chm.cols_[0]}_{tax.cols_[0]}_nperms_10000.npz')\n",
    "    )\n",
    "    pmx = np.load(pfile)['permatx']\n",
    "\n",
    "    pmx = smap(pmx, lambda v: v[~np.isnan(v)],\n",
    "                    lambda v: None if len(v) < pmx.shape[1]*0.5 else np.sort(v))\n",
    "    pmx = pmx[minwsize-3:]\n",
    "    \n",
    "    if missing(pcut) or side == 'both':\n",
    "        pcuts = (np.ones(len(pmx)) * np.nan)\n",
    "    else:\n",
    "        pcuts = smap(pmx, lambda p: np.nan if missing(p) else \\\n",
    "                                    np.quantile(p, pcut if side == 'lower' else 1-pcut))\n",
    "\n",
    "    wsize = np.arange(minwsize,minwsize+len(pmx))\n",
    "    cx,tx = chm.X_.ravel(), tax.X_.ravel()\n",
    "\n",
    "    cores = smap(zip(wsize,pmx), unpack(lambda w,p: _corrw(cx,tx,w,p,side)))\n",
    "\n",
    "    cores = smap(cores, \n",
    "        lambda r: pick(r,unpack(\n",
    "            lambda i,xp,yp,cc,pv,pa: available(pa)\n",
    "        ))\n",
    "    )\n",
    "\n",
    "    if available(rcut):\n",
    "        cores = smap(cores, \n",
    "            lambda r: pick(r,unpack(\n",
    "                lambda i,xp,yp,cc,pv,pa: xp >= rcut and yp >= rcut\n",
    "            ))\n",
    "        )\n",
    "        \n",
    "    if sign != 'both':\n",
    "        cores = smap(cores, \n",
    "            lambda r: pick(r,unpack(\n",
    "                lambda i,xp,yp,cc,pv,pa: (cc < 0) if sign == 'neg' else (cc > 0)\n",
    "            ))\n",
    "        )\n",
    "        \n",
    "    cores = smap(cores, lambda r: smap(r, itemgetter(0,-3,-2,-1)))\n",
    "    return l(zip(wsize,pcuts,cores))"
   ]
  },
  {
   "cell_type": "code",
   "execution_count": null,
   "metadata": {},
   "outputs": [],
   "source": [
    "def _sig_corr_mp(params):\n",
    "    res = _sig_corr(*params)\n",
    "    return params[1].cols_[0], drop(res, lambda r: len(r[2]) == 0)\n",
    "\n",
    "def _sig_corr_dct(chm, txtab, pmxpath, minwsize, rcut, pcut, sign, side):\n",
    "    pms = [(chm, txtab[:,tax], pmxpath, minwsize, rcut, pcut, sign, side) for tax in txtab.cols_] \n",
    "    rdct = pmap(pms, _sig_corr_mp)\n",
    "    rdct = {k:v for k,v in rdct if len(v) > 0}\n",
    "    return rdct"
   ]
  },
  {
   "cell_type": "markdown",
   "metadata": {},
   "source": [
    "## Identify the optimal significant corr over sliding windows"
   ]
  },
  {
   "cell_type": "code",
   "execution_count": null,
   "metadata": {},
   "outputs": [],
   "source": [
    "def _opt_corr_dct(cordct):\n",
    "    dct = {k: np.array([(w,c,st,cr,pv,pa) for w,c,rs in vs for st,cr,pv,pa in rs]) for k,vs in cordct.items()}\n",
    "    _pick = lambda x: x[np.lexsort((-np.abs(x[:,-3]),-x[:,0],x[:,-2],x[:,-1]))][0]\n",
    "    dct = {k: _pick(vs) for k,vs in dct.items()}\n",
    "    return dct"
   ]
  },
  {
   "cell_type": "code",
   "execution_count": null,
   "metadata": {},
   "outputs": [],
   "source": [
    "def _corr_dct_tab(optdct):\n",
    "    tab = Table(\n",
    "        np.zeros((len(optdct), 5)), dtype = float,\n",
    "        rownames = l(optdct.keys()),\n",
    "        colnames = ['start time point', 'window size', 'correlation', 'corr p-value', 'corr p-adj'],\n",
    "    )\n",
    "    for k,(w,_,st,cr,pv,pa) in optdct.items(): tab[k] = [st,w,cr,pv,pa]\n",
    "    return tab"
   ]
  },
  {
   "cell_type": "markdown",
   "metadata": {},
   "source": [
    "## Plot correlation"
   ]
  },
  {
   "cell_type": "code",
   "execution_count": null,
   "metadata": {},
   "outputs": [],
   "source": [
    "def _plot_corr(chms, taxa, pos = None, wsize = None, std = True, title = None, legend = True):\n",
    "    nm,cx,tx = np.array(chms.rows_), chms.X_, taxa.X_\n",
    "    if available(pos) and available(wsize): nm,cx,tx = smap((nm,cx,tx), lambda x: x[pos:pos+wsize])\n",
    "    if std: cx,tx = smap((cx,tx), lambda x: (x - np.mean(x,axis=0)) / np.std(x,axis=0))\n",
    "\n",
    "    fig = make_subplots(specs=[[{'secondary_y': True}]])\n",
    "\n",
    "    for ci in range(chms.ncol):\n",
    "        fig.add_trace(\n",
    "            go.Scatter(x = nm, y = cx[:,ci], mode = 'lines+markers', name = chms.cols_[ci]),\n",
    "            secondary_y = False,\n",
    "        )\n",
    "\n",
    "    for ti in range(taxa.ncol):\n",
    "        fig.add_trace(\n",
    "            go.Scatter(x = nm, y = tx[:,ti], mode = 'lines+markers', name = taxa.cols_[ti]),\n",
    "            secondary_y = True,\n",
    "        )\n",
    "\n",
    "    if chms.ncol == 1 and taxa.ncol == 1:\n",
    "        cc = np.corrcoef(cx.ravel(),tx.ravel())[0,1]        \n",
    "\n",
    "        fig.update_layout(\n",
    "            title = {'text': f'corr = {cc:.2f}' if missing(title) else title},\n",
    "            showlegend = legend,\n",
    "        )\n",
    "        \n",
    "        fig.update_yaxes(title_text = chms.cols_[0][:20], secondary_y = False)\n",
    "        fig.update_yaxes(title_text = taxa.cols_[0][:20], secondary_y = True)\n",
    "    else:\n",
    "        cc = np.corrcoef(np.hstack([cx,tx]).T)\n",
    "        cc = np.nanmean(np.power(cc[np.triu_indices_from(cc,1)],2))\n",
    "        \n",
    "        fig.update_layout(\n",
    "            title = {'text': f'mean corr = {cc:.2f}' if missing(title) else title},\n",
    "            showlegend = legend,\n",
    "        )\n",
    "        \n",
    "    return fig"
   ]
  },
  {
   "cell_type": "markdown",
   "metadata": {},
   "source": [
    "## Identify significant OTU corr in range"
   ]
  },
  {
   "cell_type": "code",
   "execution_count": null,
   "metadata": {},
   "outputs": [],
   "source": [
    "def _opt_corr_otu_dct(taxdct, otudct, wcut):\n",
    "    def _otu_in_rng(tax):\n",
    "        wd,_,st,_,_,_ = taxdct[tax]\n",
    "        rvec = np.zeros(otutab.nrow, dtype = bool)\n",
    "        rvec[int(st):int(st+wd)] = True\n",
    "        \n",
    "        otus = np.array(otutab[:,otutab.cidx_[grpID] == tax].cols_)\n",
    "        odct = {otu: [\n",
    "            (w,c,[(st,cr,pv,pa) for st,cr,pv,pa in rs if np.sum(rvec[st:st+w]) > w*wcut]) \n",
    "            for w,c,rs in otudct[otu]\n",
    "        ] for otu in otus if otu in otudct.keys()}\n",
    "        \n",
    "        odct = {k: [(w,c,rs) for w,c,rs in v if len(rs) > 0] for k,v in odct.items()}\n",
    "        odct = {k: v for k,v in odct.items() if len(v) > 0}\n",
    "        \n",
    "        return _opt_corr_dct(odct)\n",
    "    outdct = {t: _otu_in_rng(t) for t in taxdct.keys()}\n",
    "    return {k:v for k,v in outdct.items() if len(v) > 0}"
   ]
  },
  {
   "cell_type": "code",
   "execution_count": null,
   "metadata": {},
   "outputs": [],
   "source": [
    "_insc = lambda x,y: np.intersect1d(x, y, assume_unique = True)\n",
    "_diff = lambda x,y: np.setdiff1d(x, y, assume_unique = True)\n",
    "\n",
    "def _ora(tgids, bgids, rfids, test):\n",
    "    if len(tgids) == 0: return np.nan # ignored\n",
    "\n",
    "    cfm = [\n",
    "        _insc(tgids, rfids), _diff(rfids, tgids),\n",
    "        _diff(tgids, rfids), _diff(_diff(bgids, rfids), tgids),\n",
    "    ]\n",
    "    cfm = np.array(smap(cfm, len)).reshape((2,2))\n",
    "\n",
    "    _test = (lambda x: fisher_exact(x, alternative = 'greater')[1]) if test == 'fisher' else \\\n",
    "            (lambda x: chi2_contingency(x, correction = False)[1]) if test == 'chi2' else \\\n",
    "            (lambda x: x[0,0])\n",
    "    return _test(cfm), len(rfids), cfm[0,0], cfm[0,0]/len(rfids)"
   ]
  },
  {
   "cell_type": "code",
   "execution_count": null,
   "metadata": {},
   "outputs": [],
   "source": [
    "def _opt_corr_otu_ora(otus, bgtab, test = 'fisher'):\n",
    "    tgids = np.unique(otus)\n",
    "    bgids = np.asarray(bgtab.cols_)\n",
    "\n",
    "    gtaxa = bgtab.cidx_[grpID]\n",
    "    utaxa = np.unique(gtaxa)\n",
    "    rflst = smap(utaxa, lambda x: bgids[gtaxa == x])\n",
    "    \n",
    "    pvals,nrefs,nhits,recls = np.array(smap(rflst, lambda x: _ora(tgids, bgids, x, test))).T\n",
    "\n",
    "    qvals = np.ones_like(pvals) * np.nan\n",
    "    qvals[~np.isnan(pvals)] = _fdr(pvals[~np.isnan(pvals)])\n",
    "    \n",
    "    ectab = Table(\n",
    "        np.vstack([nrefs, nhits, recls, pvals, qvals]).T,\n",
    "        rownames = utaxa,\n",
    "        colnames = ['OTU size', 'overlap size', 'ora recall', 'ora p-value', 'ora p-adj'] \n",
    "    )\n",
    "    return ectab"
   ]
  },
  {
   "cell_type": "markdown",
   "metadata": {},
   "source": [
    "## Plot p-values"
   ]
  },
  {
   "cell_type": "code",
   "execution_count": null,
   "metadata": {},
   "outputs": [],
   "source": [
    "def _tax_name(tax):\n",
    "    ns = re.split('[kdpcofgs]__', tax)\n",
    "    ns = smap(ns, lambda x: x.rstrip('_'))\n",
    "    ns = drop(drop(ns, 'null'), '')\n",
    "    return ns[-1]\n",
    "    \n",
    "def _plot_corr_pvals(cortab):\n",
    "    fig = go.Figure()\n",
    "\n",
    "    cors = np.abs(cortab[:,'correlation'].X_.ravel())\n",
    "    mincor,maxcor = np.min(cors), np.max(cors)\n",
    "\n",
    "    ccws = np.abs(cortab[:,'cca weight'].X_.ravel())\n",
    "    minccw,maxccw = np.min(ccws), np.max(ccws)\n",
    "    \n",
    "    for tax in cortab.rows_:  \n",
    "        txn = _tax_name(tax)\n",
    "        cor,cpv,rcl,opv,ccw = cortab[tax,['correlation','corr p-adj','ora recall','ora p-adj','cca weight']].X_[0]\n",
    "\n",
    "        if cpv < 0.05 and opv < 0.05: tax = f'<b>{tax} *</b>'\n",
    "        fig.add_trace(go.Scatter(\n",
    "            x = [rcl + np.random.normal(0,0.03)],\n",
    "            # x = [-np.log(opv+1e-5)],\n",
    "            y = [-np.log(cpv+np.random.normal(1e-5,5e-7)) + np.random.normal(0,0.03)],\n",
    "            text = [txn],\n",
    "            name = txn,\n",
    "            # mode = 'markers+text',\n",
    "            mode = 'markers',\n",
    "            marker = {\n",
    "                # 'size': (np.abs(cor)-mincor)/(maxcor-mincor)*100+10,\n",
    "                # 'size': (np.abs(ccw)-minccw)/(maxccw-minccw)*100+10,\n",
    "                'size': 50,\n",
    "                'opacity': 0.7,\n",
    "            },\n",
    "            textposition = 'top center',\n",
    "        ))\n",
    "        \n",
    "    fig.update_xaxes(title_text = 'OTU ORA Recall')\n",
    "    # fig.update_xaxes(title_text = 'OTU ORA p-adj -ln(p-adj)')\n",
    "    fig.update_yaxes(title_text = 'Taxon Correlation p-adj -ln(p-adj)')\n",
    "    \n",
    "    return fig"
   ]
  },
  {
   "cell_type": "markdown",
   "metadata": {},
   "source": [
    "## CCA Factor Plot"
   ]
  },
  {
   "cell_type": "code",
   "execution_count": null,
   "metadata": {},
   "outputs": [],
   "source": [
    "def _plot_cca_factors(ccares, dss, comp, grps, axnams):\n",
    "    ccaprojs = smap(\n",
    "        zip(ccares.projections_, dss),\n",
    "        unpack(lambda ld,ds: Table(\n",
    "            ld, rownames=ds.rows_, colnames=smap(np.arange(ld.shape[1]), lambda x: f'component_{x+1}')\n",
    "        ))\n",
    "    )\n",
    "\n",
    "    labs = np.array(ccaprojs[0].rownames)\n",
    "    axis = np.array(smap(ccaprojs, lambda x: x[:,f'component_{comp+1}'].X_.ravel()))\n",
    "\n",
    "    title = f'Mean Var. = {int(ccares.AVE_outer_[comp]*100)}%, Mean Corr. = {ccares.AVE_inner_[comp]:2f}'\n",
    "    axnms = (\n",
    "        f'{axnams[0]} ({int(ccares.AVE_[0][comp]*100)}%)', \n",
    "        f'{axnams[1]} ({int(ccares.AVE_[1][comp]*100)}%)', \n",
    "        f'{axnams[2]} ({int(ccares.AVE_[2][comp]*100)}%)',\n",
    "    )\n",
    "    \n",
    "    if available(grps): grps = np.asarray(grps)    \n",
    "    def _wrap(g = None):\n",
    "        x,l = (axis,labs) if missing(g) else (axis[:,grps==g],labs[grps==g])\n",
    "        trace = go.Scatter3d(x = x[0], y = x[1], z = x[2], text = l, name = g)\n",
    "        return trace\n",
    "    data = _wrap() if missing(grps) else smap(np.unique(grps),_wrap)\n",
    "    fig = go.Figure(data)\n",
    "        \n",
    "    fig.update_traces(\n",
    "        mode = 'markers+text',\n",
    "        marker = {\n",
    "            'size': 10,\n",
    "            'colorscale': 'viridis',\n",
    "        }\n",
    "    )\n",
    "        \n",
    "    fig.update_layout(\n",
    "        showlegend = True,\n",
    "        title_text = title,\n",
    "        scene = {\n",
    "            'xaxis': {'title': axnms[0]}, \n",
    "            'yaxis': {'title': axnms[1]},\n",
    "            'zaxis': {'title': axnms[2]}\n",
    "        },\n",
    "    )\n",
    "    return fig"
   ]
  },
  {
   "cell_type": "markdown",
   "metadata": {},
   "source": [
    "# Load Datasets\n",
    "\n",
    "---"
   ]
  },
  {
   "cell_type": "code",
   "execution_count": null,
   "metadata": {},
   "outputs": [],
   "source": [
    "otuID = '16sv1'\n",
    "grpID = 'D4'"
   ]
  },
  {
   "cell_type": "code",
   "execution_count": null,
   "metadata": {},
   "outputs": [],
   "source": [
    "# taxtab = Table.loadhdf(f'data/dss/{otuID}_proc_taxons_{grpID}.hdf')\n",
    "otutab = Table.loadhdf(f'data/dss/{otuID}_proc.hdf')"
   ]
  },
  {
   "cell_type": "code",
   "execution_count": null,
   "metadata": {},
   "outputs": [],
   "source": [
    "envtab = Table.loadhdf('data/dss/envs_proc.hdf')\n",
    "chmtab = Table.loadhdf('data/dss/chms_proc_TY.hdf')\n",
    "cpdtab = Table.loadhdf('data/dss/chms_proc.hdf')"
   ]
  },
  {
   "cell_type": "markdown",
   "metadata": {
    "tags": []
   },
   "source": [
    "## Align"
   ]
  },
  {
   "cell_type": "code",
   "execution_count": null,
   "metadata": {},
   "outputs": [],
   "source": [
    "# trgtab = envtab\n",
    "trgtab = chmtab"
   ]
  },
  {
   "cell_type": "code",
   "execution_count": null,
   "metadata": {},
   "outputs": [],
   "source": [
    "sids = fold(\n",
    "    smap([trgtab, otutab], lambda x: x.rows_), \n",
    "    np.intersect1d\n",
    ")\n",
    "sids = np.array(sorted(sids, key = lambda x: int(x)))"
   ]
  },
  {
   "cell_type": "code",
   "execution_count": null,
   "metadata": {},
   "outputs": [],
   "source": [
    "trgtab, otutab = smap([trgtab, otutab], lambda x: x[sids])"
   ]
  },
  {
   "cell_type": "code",
   "execution_count": null,
   "metadata": {},
   "outputs": [],
   "source": [
    "smap([trgtab, otutab], lambda x: x.shape)"
   ]
  },
  {
   "cell_type": "markdown",
   "metadata": {},
   "source": [
    "## Filter"
   ]
  },
  {
   "cell_type": "code",
   "execution_count": null,
   "metadata": {},
   "outputs": [],
   "source": [
    "otutab = _abandon_filter(otutab)"
   ]
  },
  {
   "cell_type": "code",
   "execution_count": null,
   "metadata": {},
   "outputs": [],
   "source": [
    "taxtab = _taxtab(otutab, grpID)\n",
    "taxtab.shape"
   ]
  },
  {
   "cell_type": "markdown",
   "metadata": {
    "tags": []
   },
   "source": [
    "# Overall Correlations\n",
    "\n",
    "---"
   ]
  },
  {
   "cell_type": "code",
   "execution_count": null,
   "metadata": {},
   "outputs": [],
   "source": [
    "dss = [trgtab, taxtab]"
   ]
  },
  {
   "cell_type": "code",
   "execution_count": null,
   "metadata": {},
   "outputs": [],
   "source": [
    "ncomps = np.min([5, np.min(smap(dss, lambda x: x.ncol))])\n",
    "\n",
    "# cca = RGCCA(n_components = ncomps).fit(smap(dss, lambda x: x.X_), tau = 1)\n",
    "cca = SGCCA(n_components = ncomps).fit(\n",
    "    smap(dss, lambda x: x.X_), \n",
    "    # c1 = [1/np.sqrt(dss[0].ncol)+1e-5, 1/np.sqrt(dss[1].ncol)+1e-5, 1]\n",
    "    c1 = [1.5/np.sqrt(dss[0].ncol)+1e-5, 1]\n",
    ")\n",
    "\n",
    "cols = smap(range(ncomps), lambda x: f'component_{x+1}')\n",
    "ccaloads = smap(\n",
    "    zip(cca.loadings_, dss),\n",
    "    unpack(lambda ld,ds: Table(ld, rownames = ds.cols_, colnames = cols)),\n",
    ")"
   ]
  },
  {
   "cell_type": "code",
   "execution_count": null,
   "metadata": {},
   "outputs": [],
   "source": [
    "ccaloads[0].todataframe()"
   ]
  },
  {
   "cell_type": "code",
   "execution_count": null,
   "metadata": {},
   "outputs": [],
   "source": [
    "factors = np.array(ccaloads[0].rows_)[np.argmax(np.abs(ccaloads[0].X_),axis=0)]"
   ]
  },
  {
   "cell_type": "markdown",
   "metadata": {},
   "source": [
    "# Features Contribute to Components\n",
    "\n",
    "---"
   ]
  },
  {
   "cell_type": "code",
   "execution_count": null,
   "metadata": {},
   "outputs": [],
   "source": [
    "fid = 0"
   ]
  },
  {
   "cell_type": "code",
   "execution_count": null,
   "metadata": {},
   "outputs": [],
   "source": [
    "cca_taxtab = ccaloads[1][:,fid]\n",
    "cca_taxtab.cols_ = ['cca weight']"
   ]
  },
  {
   "cell_type": "code",
   "execution_count": null,
   "metadata": {},
   "outputs": [],
   "source": [
    "fctID = factors[fid]\n",
    "\n",
    "fctdct = {\n",
    "    'annual mean temp':      'Annual_mean_temp',\n",
    "    'jun-aug mean temp':     'Jun-aug_mean_temp',\n",
    "    'yearly daily min temp': 'Yearly_daily_min_temp',\n",
    "    'yearly daily max temp': 'Yearly_daily_max_temp',\n",
    "    'highest temp':          'Highest_temp',\n",
    "    'lowest temp':           'Lowest_temp',\n",
    "    'Mean atm hPa':          'Mean_atm_hPa',\n",
    "    'jun-aug mean atm hPa':  'Jun-aug_mean_atm_hPa',\n",
    "    'annual total precip':   'Annual_total_precip',\n",
    "    'jun-aug total precip':  'Jun-aug_total_precip',\n",
    "    'max24h precipitation':  'Max_24h_precipitation',\n",
    "    'fungicide(T/Y)':        'Fungicide', \n",
    "    'herbicide(T/Y)':        'Herbicide', \n",
    "    'insecticide(T/Y)':      'Insecticide', \n",
    "    'pesticide(T/Y)':        'Pesticide',\n",
    "    'DDT':                   'DDT',\n",
    "}\n",
    "fctnam = fctdct[fctID]\n",
    "\n",
    "fct = trgtab[:,fctID]"
   ]
  },
  {
   "cell_type": "code",
   "execution_count": null,
   "metadata": {},
   "outputs": [],
   "source": [
    "all_taxcor = _sig_corr_dct(\n",
    "    fct, taxtab, \n",
    "    pmxpath = f'results/{otuID}/perm_null/{grpID}/', \n",
    "    minwsize = 5, \n",
    "    rcut = 0.5, \n",
    "    pcut = 0.05,\n",
    "    sign = 'neg',\n",
    "    side = 'lower',\n",
    "    # sign = 'both',\n",
    "    # side = 'both',\n",
    ")"
   ]
  },
  {
   "cell_type": "code",
   "execution_count": null,
   "metadata": {},
   "outputs": [],
   "source": [
    "all_otucor = _sig_corr_dct(\n",
    "    fct, otutab, \n",
    "    pmxpath = f'results/{otuID}/perm_null/OTU/', \n",
    "    minwsize = 5,\n",
    "    rcut = 0.5, \n",
    "    pcut = 0.05,\n",
    "    sign = 'neg',\n",
    "    side = 'lower',\n",
    "    # sign = 'both',\n",
    "    # side = 'both',\n",
    ")"
   ]
  },
  {
   "cell_type": "code",
   "execution_count": null,
   "metadata": {},
   "outputs": [],
   "source": [
    "opt_taxcor = _opt_corr_dct(all_taxcor)\n",
    "opt_taxtab = _corr_dct_tab(opt_taxcor)"
   ]
  },
  {
   "cell_type": "code",
   "execution_count": null,
   "metadata": {},
   "outputs": [],
   "source": [
    "sig_taxcor = {k:v for k,v in opt_taxcor.items() if np.abs(v[3]) >= 0.5 and v[-1] < 0.05}"
   ]
  },
  {
   "cell_type": "markdown",
   "metadata": {},
   "source": [
    "# OTUs Contribute to Correlation\n",
    "\n",
    "---"
   ]
  },
  {
   "cell_type": "code",
   "execution_count": null,
   "metadata": {},
   "outputs": [],
   "source": [
    "opt_otucor = _opt_corr_otu_dct(sig_taxcor, all_otucor, 0.8)"
   ]
  },
  {
   "cell_type": "code",
   "execution_count": null,
   "metadata": {},
   "outputs": [],
   "source": [
    "sig_otucor = {k: {\n",
    "    o: rs for o,rs in v.items() if np.abs(rs[3]) >= 0.5 and rs[-1] < 0.05\n",
    "} for k,v in opt_otucor.items()}\n",
    "sig_otucor = {k:v for k,v in sig_otucor.items() if len(v) > 0}"
   ]
  },
  {
   "cell_type": "code",
   "execution_count": null,
   "metadata": {},
   "outputs": [],
   "source": [
    "# bgtab = Table.loadhdf(f'data/dss/{otuID}_clean.hdf')\n",
    "bgtab = otutab"
   ]
  },
  {
   "cell_type": "code",
   "execution_count": null,
   "metadata": {},
   "outputs": [],
   "source": [
    "sig_otus = np.hstack(smap(sig_otucor.values(), lambda x: l(x.keys())))\n",
    "sig_otuenc = _opt_corr_otu_ora(sig_otus, bgtab, test = 'fisher')"
   ]
  },
  {
   "cell_type": "code",
   "execution_count": null,
   "metadata": {},
   "outputs": [],
   "source": [
    "res_tab = opt_taxtab.append(sig_otuenc[opt_taxtab.rows_], axis = 1).append(cca_taxtab[opt_taxtab.rows_], axis = 1)\n",
    "res_tab.savecsv(\n",
    "    f'results/{otuID}/tables/{fctnam}_{grpID}_corrs.csv',\n",
    "    transpose = False\n",
    ")"
   ]
  },
  {
   "cell_type": "code",
   "execution_count": null,
   "metadata": {},
   "outputs": [],
   "source": [
    "res_fig = _plot_corr_pvals(res_tab)\n",
    "checkOutputDir(f'results/{otuID}/figs/')\n",
    "res_fig.write_html(f'results/{otuID}/figs/{fctnam}_{grpID}_corrs.html')"
   ]
  },
  {
   "cell_type": "markdown",
   "metadata": {},
   "source": [
    "# Significant Taxa for Interpretation \n",
    "\n",
    "---"
   ]
  },
  {
   "cell_type": "markdown",
   "metadata": {},
   "source": [
    "## Load top results"
   ]
  },
  {
   "cell_type": "code",
   "execution_count": null,
   "metadata": {},
   "outputs": [],
   "source": [
    "otuID = 'coi'"
   ]
  },
  {
   "cell_type": "code",
   "execution_count": null,
   "metadata": {},
   "outputs": [],
   "source": [
    "envloads = Table.loadcsv(\n",
    "    f'results/{otuID}/tables/Overall_sCCA_env_D4_weights.csv', \n",
    "    transposed = False,\n",
    ")\n",
    "topenvs = np.array(envloads.rows_)[np.argmax(np.abs(envloads.X_),axis=0)][:5]\n",
    "\n",
    "chmloads = Table.loadcsv(\n",
    "    f'results/{otuID}/tables/Overall_sCCA_chm_D4_weights.csv', \n",
    "    transposed = False,\n",
    ")\n",
    "topchms = np.array(chmloads.rows_)[np.argmax(np.abs(chmloads.X_),axis=0)][:5]"
   ]
  },
  {
   "cell_type": "code",
   "execution_count": null,
   "metadata": {},
   "outputs": [],
   "source": [
    "flst = [\n",
    "    f'results/{otuID}/tables/{fctdct[e]}_D4_corrs.csv' for e in topenvs\n",
    "] + [\n",
    "    f'results/{otuID}/tables/{fctdct[c]}_D4_corrs.csv' for c in topchms\n",
    "]\n",
    "assert checkall(flst, os.path.isfile)\n",
    "len(flst)"
   ]
  },
  {
   "cell_type": "code",
   "execution_count": null,
   "metadata": {},
   "outputs": [],
   "source": [
    "rtabs = smap(flst, lambda x: Table.loadcsv(x, transposed=False))"
   ]
  },
  {
   "cell_type": "markdown",
   "metadata": {},
   "source": [
    "## Identify cutoffs and filter"
   ]
  },
  {
   "cell_type": "code",
   "execution_count": null,
   "metadata": {},
   "outputs": [],
   "source": [
    "recl = np.hstack(smap(rtabs, lambda x: x[:,'ora recall'].X_[:,0]))\n",
    "\n",
    "f = Fitter(recl, distributions=['halfgennorm','gamma','chi'])\n",
    "f.fit()\n",
    "f.summary()"
   ]
  },
  {
   "cell_type": "code",
   "execution_count": null,
   "metadata": {},
   "outputs": [],
   "source": [
    "dst = halfgennorm(**f.get_best()['halfgennorm'])\n",
    "p95, p99 = dst.ppf(0.95), dst.ppf(0.99)\n",
    "print(p95, p99)"
   ]
  },
  {
   "cell_type": "code",
   "execution_count": null,
   "metadata": {},
   "outputs": [],
   "source": [
    "q90 = np.percentile(recl, 90)\n",
    "q90"
   ]
  },
  {
   "cell_type": "code",
   "execution_count": null,
   "metadata": {},
   "outputs": [],
   "source": [
    "mcols = rtabs[0].cols_\n",
    "\n",
    "mtabs = []\n",
    "for tb,fn in zip(rtabs, flst):\n",
    "    tb = tb[:,mcols]\n",
    "    px = fileTitle(fn).rsplit('_',2)[0]\n",
    "    tb.cols_ = smap(tb.cols_, lambda x: f'{px}_{x}')\n",
    "    mtabs += [tb]\n",
    "mids = fold(smap(mtabs, lambda x: np.array(x.rows_)), np.union1d)\n",
    "\n",
    "rmtab = Table(\n",
    "    np.zeros((len(mids), len(mcols)*len(mtabs))) * np.nan, \n",
    "    rownames = mids,\n",
    "    colnames = np.hstack(smap(mtabs, lambda x: x.cols_))\n",
    ")\n",
    "for tb in mtabs: rmtab[tb.rows_, tb.cols_] = tb.X_"
   ]
  },
  {
   "cell_type": "code",
   "execution_count": null,
   "metadata": {},
   "outputs": [],
   "source": [
    "sigs = smap(\n",
    "    rmtab.rows_, \n",
    "    lambda x: np.sum(smap(rtabs, lambda tb: 1 if x in tb.rows_ and\n",
    "                                                 np.abs(tb[x,'correlation'].X_[0][0]) >= 0.5 and\n",
    "                                                 tb[x,'corr p-adj'].X_[0][0] < 0.05 and\n",
    "                                                 tb[x,'ora recall'].X_[0][0] >= 0.5 else 0))\n",
    ")\n",
    "\n",
    "rmtab = Table(\n",
    "    np.array(sigs).reshape((-1,1)), dtype = float, \n",
    "    rownames = rmtab.rows_, \n",
    "    colnames = ['Significant'],\n",
    ").append(rmtab, axis = 1)\n",
    "rmtab = rmtab[np.argsort(sigs)[::-1]]"
   ]
  },
  {
   "cell_type": "code",
   "execution_count": null,
   "metadata": {},
   "outputs": [],
   "source": [
    "rmtab.savecsv(f'results/{otuID}/tables/Summary_ext_{grpID}_corrs.csv', transpose = False)"
   ]
  },
  {
   "cell_type": "code",
   "execution_count": null,
   "metadata": {},
   "outputs": [],
   "source": [
    "rmtab = rmtab[:,pick(rmtab.cols_, \n",
    "    lambda x: x == 'Significant' or 'correlation' in x or 'corr p-adj' in x or 'ora recall' in x\n",
    ")]\n",
    "rmtab.savecsv(f'results/{otuID}/tables/Summary_{grpID}_corrs.csv', transpose = False)"
   ]
  },
  {
   "cell_type": "markdown",
   "metadata": {},
   "source": [
    "# Corr Plots"
   ]
  },
  {
   "cell_type": "markdown",
   "metadata": {},
   "source": [
    "## Load data and align"
   ]
  },
  {
   "cell_type": "code",
   "execution_count": null,
   "metadata": {},
   "outputs": [],
   "source": [
    "otuID = 'rbcl'\n",
    "grpID = 'D4'\n",
    "ctype = 'chm'"
   ]
  },
  {
   "cell_type": "code",
   "execution_count": null,
   "metadata": {},
   "outputs": [],
   "source": [
    "otutab = Table.loadhdf(f'data/dss/{otuID}_proc.hdf')"
   ]
  },
  {
   "cell_type": "code",
   "execution_count": null,
   "metadata": {},
   "outputs": [],
   "source": [
    "envtab = Table.loadhdf('data/dss/envs_proc.hdf')\n",
    "chmtab = Table.loadhdf('data/dss/chms_proc_TY.hdf')\n",
    "cpdtab = Table.loadhdf('data/dss/chms_proc.hdf')"
   ]
  },
  {
   "cell_type": "code",
   "execution_count": null,
   "metadata": {},
   "outputs": [],
   "source": [
    "trgtab = envtab if ctype == 'env' else chmtab"
   ]
  },
  {
   "cell_type": "code",
   "execution_count": null,
   "metadata": {},
   "outputs": [],
   "source": [
    "sids = fold(\n",
    "    smap([trgtab, otutab], lambda x: x.rows_), \n",
    "    np.intersect1d\n",
    ")\n",
    "sids = np.array(sorted(sids, key = lambda x: int(x)))"
   ]
  },
  {
   "cell_type": "code",
   "execution_count": null,
   "metadata": {},
   "outputs": [],
   "source": [
    "trgtab, otutab = smap([trgtab, otutab], lambda x: x[sids])\n",
    "if ctype == 'chm': cpdtab = cpdtab[sids]"
   ]
  },
  {
   "cell_type": "code",
   "execution_count": null,
   "metadata": {},
   "outputs": [],
   "source": [
    "smap([trgtab, otutab], lambda x: x.shape)"
   ]
  },
  {
   "cell_type": "code",
   "execution_count": null,
   "metadata": {},
   "outputs": [],
   "source": [
    "otutab = _abandon_filter(otutab)"
   ]
  },
  {
   "cell_type": "code",
   "execution_count": null,
   "metadata": {},
   "outputs": [],
   "source": [
    "taxtab = _taxtab(otutab, grpID)\n",
    "taxtab.shape"
   ]
  },
  {
   "cell_type": "markdown",
   "metadata": {},
   "source": [
    "## Load results"
   ]
  },
  {
   "cell_type": "code",
   "execution_count": null,
   "metadata": {},
   "outputs": [],
   "source": [
    "loadings = Table.loadcsv(\n",
    "    f'results/{otuID}/tables/Overall_sCCA_{ctype}_D4_weights.csv', \n",
    "    transposed = False,\n",
    ")\n",
    "topfcts = np.array(loadings.rows_)[np.argmax(np.abs(loadings.X_),axis=0)][:5]"
   ]
  },
  {
   "cell_type": "code",
   "execution_count": null,
   "metadata": {},
   "outputs": [],
   "source": [
    "flst = [\n",
    "    f'results/{otuID}/tables/{fctdct[e]}_D4_corrs.csv' for e in topfcts\n",
    "]\n",
    "assert checkall(flst, os.path.isfile)\n",
    "len(flst)"
   ]
  },
  {
   "cell_type": "code",
   "execution_count": null,
   "metadata": {},
   "outputs": [],
   "source": [
    "rtabs = smap(flst, lambda x: Table.loadcsv(x, transposed=False))"
   ]
  },
  {
   "cell_type": "markdown",
   "metadata": {},
   "source": [
    "## Plot"
   ]
  },
  {
   "cell_type": "code",
   "execution_count": null,
   "metadata": {},
   "outputs": [],
   "source": [
    "def _corr_fig(fct,tax,pos,wsize,title):    \n",
    "    fig = _plot_corr(\n",
    "        trgtab[:,fct],\n",
    "        taxtab[:,tax],\n",
    "        pos = pos,\n",
    "        wsize = wsize,\n",
    "        std = True,\n",
    "        title = title\n",
    "    )\n",
    "    fig.write_html(f'results/{otuID}/figs/corr/Corr_{grpID}_{fctdct[fct]}-{tax}.html')\n",
    "    \n",
    "def _corr_fig_cpds(fct,tax,cpd,pos,wsize,title):    \n",
    "    fig = _plot_corr(\n",
    "        cpdtab[:,cpd],\n",
    "        taxtab[:,tax],\n",
    "        pos = pos,\n",
    "        wsize = wsize,\n",
    "        std = True,\n",
    "        title = title\n",
    "    )\n",
    "    fig.write_html(f'results/{otuID}/figs/corr/Corr_{grpID}_{fctdct[fct]}-{tax}_cpds.html')"
   ]
  },
  {
   "cell_type": "code",
   "execution_count": null,
   "metadata": {},
   "outputs": [],
   "source": [
    "def _corr_fig_tab(fct,tax,pos,wsize):    \n",
    "    otab = taxtab[:,tax].append(trgtab[:,fct], axis=1)\n",
    "    otab = otab[pos:pos+wsize]\n",
    "    otab.savecsv(f'results/{otuID}/tables/Corr_{grpID}_{fctdct[fct]}-{tax}.csv', transpose=False)\n",
    "    \n",
    "def _corr_fig_cpds_tab(fct,tax,cpd,pos,wsize):    \n",
    "    otab = taxtab[:,tax].append(cpdtab[:,cpd], axis=1)\n",
    "    otab = otab[pos:pos+wsize]\n",
    "    otab.savecsv(f'results/{otuID}/tables/Corr_{grpID}_{fctdct[fct]}-{tax}_cpds.csv', transpose=False)"
   ]
  },
  {
   "cell_type": "code",
   "execution_count": null,
   "metadata": {},
   "outputs": [],
   "source": [
    "# checkOutputDir(f'results/{otuID}/figs/corr/')\n",
    "for fct,rtab in zip(topfcts,rtabs):\n",
    "    for tax in np.array(rtab.rows_):\n",
    "        st,wd,cr,qv,rc = rtab[tax,[\n",
    "            'start time point','window size','correlation','corr p-adj','ora recall'\n",
    "        ]].X_[0]\n",
    "        if np.abs(cr) < 0.5 or qv >= 0.05 or rc < 0.5: continue\n",
    "\n",
    "        st, wd = int(st), int(wd)\n",
    "        # _corr_fig(fct, tax, st, wd, title=f'Corr = {cr:.2f}, p-adj = {qv:.2E}')\n",
    "        _corr_fig_tab(fct, tax, st, wd)\n",
    "        \n",
    "        ctab = cpdtab[st:st+wd,cpdtab.cidx_['class'] == fct[:-5]]\n",
    "        ttab = taxtab[st:st+wd,tax]\n",
    "        ccrs = np.array(smap(ctab.X_.T, lambda x: _corr(x,ttab.X_.ravel(),None,None)[2]))\n",
    "        cids = np.argsort(ccrs)\n",
    "        cids = cids[np.logical_and(ccrs[cids] < -0.5, ~np.isnan(ccrs[cids]))][:10]\n",
    "        cpds = np.array(ctab.cols_[cids])\n",
    "        if len(cpds) == 0: continue\n",
    "        \n",
    "        # _corr_fig_cpds(fct, tax, cpds, st, wd, title=f'Mean Corr = {np.mean(ccrs[cids]):.2f}')\n",
    "        _corr_fig_cpds_tab(fct, tax, cpds, st, wd)"
   ]
  },
  {
   "cell_type": "markdown",
   "metadata": {},
   "source": [
    "# Joint Effects\n",
    "\n",
    "---"
   ]
  },
  {
   "cell_type": "markdown",
   "metadata": {},
   "source": [
    "## Load dss"
   ]
  },
  {
   "cell_type": "code",
   "execution_count": null,
   "metadata": {},
   "outputs": [],
   "source": [
    "otuID = '18s'\n",
    "grpID = 'D4'"
   ]
  },
  {
   "cell_type": "code",
   "execution_count": null,
   "metadata": {},
   "outputs": [],
   "source": [
    "# taxtab = Table.loadhdf(f'data/dss/{otuID}_proc_taxons_{grpID}.hdf')\n",
    "otutab = Table.loadhdf(f'data/dss/{otuID}_proc.hdf')"
   ]
  },
  {
   "cell_type": "code",
   "execution_count": null,
   "metadata": {},
   "outputs": [],
   "source": [
    "envtab = Table.loadhdf('data/dss/envs_proc.hdf')\n",
    "chmtab = Table.loadhdf('data/dss/chms_proc_TY.hdf')\n",
    "cpdtab = Table.loadhdf('data/dss/chms_proc.hdf')"
   ]
  },
  {
   "cell_type": "markdown",
   "metadata": {},
   "source": [
    "## Align"
   ]
  },
  {
   "cell_type": "code",
   "execution_count": null,
   "metadata": {},
   "outputs": [],
   "source": [
    "dss = [otutab, envtab, chmtab, cpdtab]\n",
    "\n",
    "sids = fold(\n",
    "    smap(dss, lambda x: x.rows_), \n",
    "    np.intersect1d\n",
    ")\n",
    "sids = np.array(sorted(sids, key = lambda x: int(x)))\n",
    "dss = smap(dss, lambda x: x[sids])\n",
    "\n",
    "otutab, envtab, chmtab, cpdtab = dss"
   ]
  },
  {
   "cell_type": "code",
   "execution_count": null,
   "metadata": {},
   "outputs": [],
   "source": [
    "smap(dss, lambda x: x.shape)"
   ]
  },
  {
   "cell_type": "markdown",
   "metadata": {},
   "source": [
    "## Filter OTU -> Taxa"
   ]
  },
  {
   "cell_type": "code",
   "execution_count": null,
   "metadata": {},
   "outputs": [],
   "source": [
    "otutab = _abandon_filter(otutab)"
   ]
  },
  {
   "cell_type": "code",
   "execution_count": null,
   "metadata": {},
   "outputs": [],
   "source": [
    "taxtab = _taxtab(otutab, grpID)\n",
    "taxtab.shape"
   ]
  },
  {
   "cell_type": "markdown",
   "metadata": {
    "tags": []
   },
   "source": [
    "## Filter Top Envs and Chms (T/Y)"
   ]
  },
  {
   "cell_type": "code",
   "execution_count": null,
   "metadata": {},
   "outputs": [],
   "source": [
    "envloads = Table.loadcsv(\n",
    "    f'results/{otuID}/tables/Overall_sCCA_env_D4_weights.csv', \n",
    "    transposed = False,\n",
    ")\n",
    "topenvs = np.array(envloads.rows_)[np.argmax(np.abs(envloads.X_),axis=0)][:5]\n",
    "\n",
    "chmloads = Table.loadcsv(\n",
    "    f'results/{otuID}/tables/Overall_sCCA_chm_D4_weights.csv', \n",
    "    transposed = False,\n",
    ")\n",
    "topchms = np.array(chmloads.rows_)[np.argmax(np.abs(chmloads.X_),axis=0)][:5]"
   ]
  },
  {
   "cell_type": "code",
   "execution_count": null,
   "metadata": {},
   "outputs": [],
   "source": [
    "envtab = envtab[:,topenvs]\n",
    "chmtab = chmtab[:,topchms]"
   ]
  },
  {
   "cell_type": "markdown",
   "metadata": {},
   "source": [
    "## Joint CCA"
   ]
  },
  {
   "cell_type": "code",
   "execution_count": null,
   "metadata": {},
   "outputs": [],
   "source": [
    "dss = [envtab, chmtab, taxtab]\n",
    "ncomps = np.min([5, np.min(smap(dss, lambda x: x.ncol))])\n",
    "\n",
    "cca = SGCCA(n_components = ncomps).fit(\n",
    "    smap(dss, lambda x: x.X_), \n",
    "    c1 = [1/np.sqrt(dss[0].ncol)+1e-5, 1/np.sqrt(dss[1].ncol)+1e-5, 1]\n",
    "    # c1 = [0.5, 0.5, 1]\n",
    ")\n",
    "\n",
    "cols = smap(range(ncomps), lambda x: f'component_{x+1}')\n",
    "ccaloads = smap(\n",
    "    zip(cca.loadings_, dss),\n",
    "    unpack(lambda ld,ds: Table(ld, rownames = ds.cols_, colnames = cols)),\n",
    ")"
   ]
  },
  {
   "cell_type": "code",
   "execution_count": null,
   "metadata": {},
   "outputs": [],
   "source": [
    "ccaloads[0].todataframe()"
   ]
  },
  {
   "cell_type": "code",
   "execution_count": null,
   "metadata": {},
   "outputs": [],
   "source": [
    "ccaloads[1].todataframe()"
   ]
  },
  {
   "cell_type": "code",
   "execution_count": null,
   "metadata": {},
   "outputs": [],
   "source": [
    "phasemap = np.array(tablePortal.loadtsv('data/dss/LakeRing_eDNA_metadata.txt'))\n",
    "phasemap = {y:p for s,y,p in phasemap[1:] if s.isdigit()}"
   ]
  },
  {
   "cell_type": "code",
   "execution_count": null,
   "metadata": {},
   "outputs": [],
   "source": [
    "topfcts = np.array([\n",
    "    ccaloads[0].rows_[np.argmax(np.abs(ccaloads[0].X_),axis=0)],\n",
    "    ccaloads[1].rows_[np.argmax(np.abs(ccaloads[1].X_),axis=0)],\n",
    "]).T\n",
    "topfcts"
   ]
  },
  {
   "cell_type": "markdown",
   "metadata": {},
   "source": [
    "## Joint Corr"
   ]
  },
  {
   "cell_type": "code",
   "execution_count": null,
   "metadata": {},
   "outputs": [],
   "source": [
    "def _load_sig_corr(efct, cfct, corr_cutoff = 0.5):\n",
    "    rtabs = smap(\n",
    "        (efct,cfct), \n",
    "        lambda fct: Table.loadcsv(\n",
    "            f'results/{otuID}/tables/{fctdct[fct]}_{grpID}_corrs.csv',\n",
    "            transposed = False,\n",
    "        )\n",
    "    )\n",
    "    \n",
    "    rtabs = smap(rtabs, lambda tab: \n",
    "                 tab[np.logical_and.reduce([\n",
    "                     np.abs(tab[:,'correlation'].X_[:,0]) >= corr_cutoff,\n",
    "                     tab[:,'corr p-adj'].X_[:,0] < 0.05, \n",
    "                     tab[:,'ora recall'].X_[:,0] >= 0.5,\n",
    "                 ])])\n",
    "    \n",
    "    otaxa = np.intersect1d(np.array(rtabs[0].rows_), np.array(rtabs[1].rows_))\n",
    "    if len(otaxa) == 0: return []\n",
    "    \n",
    "    times = smap(\n",
    "        ('env','chm'), \n",
    "        lambda x: np.array(tablePortal.loadcsv(\n",
    "            f'results/{otuID}/tables/Overall_sCCA_{x}_D4_IDs.csv'\n",
    "        )).flatten()\n",
    "    )\n",
    "    \n",
    "    tys = []\n",
    "    for tax in otaxa:\n",
    "        ys = []\n",
    "        for tab,tps in zip(rtabs,times):\n",
    "            st,wd = tab[tax,['start time point','window size']].X_[0].astype(int)\n",
    "            ys += [tps[st:st+wd]]\n",
    "        tys += [ys]\n",
    "\n",
    "    oys = smap(tys, lambda x: np.intersect1d(*x))\n",
    "    jcs = smap(tys, lambda x: len(np.intersect1d(*x))/len(np.union1d(*x)))\n",
    "    \n",
    "    otaxa,oys,jcs = zip(*drop(zip(otaxa,oys,jcs), unpack(lambda t,y,j: len(y) <= 3)))\n",
    "   \n",
    "    return [(envtab[ys,efct],chmtab[ys,cfct],taxtab[ys,tax],jc) for tax,ys,jc in zip(otaxa,oys,jcs)]"
   ]
  },
  {
   "cell_type": "code",
   "execution_count": null,
   "metadata": {},
   "outputs": [],
   "source": [
    "checkOutputDir(f'results/{otuID}/figs/corr_multi/')\n",
    "for ef,cf in topfcts:\n",
    "    corrtabs = _load_sig_corr(ef,cf,corr_cutoff=0)\n",
    "    for etab,ctab,ttab,_ in corrtabs:\n",
    "        cc = np.corrcoef(np.hstack([etab.X_, ctab.X_, ttab.X_]).T)\n",
    "        cc = np.nanmean(np.abs(cc[-1,:2]))\n",
    "        if cc < 0.5: continue\n",
    "        \n",
    "        fig = _plot_corr(\n",
    "            etab.append(ctab, axis = 1), \n",
    "            ttab,\n",
    "            std = True,\n",
    "            title = f'mean corr = {cc:.2f}',\n",
    "            legend = True,\n",
    "        )\n",
    "        \n",
    "        tf = str(ttab.cols_[0])\n",
    "        fig.write_html(\n",
    "            f'results/{otuID}/figs/corr_multi/Corr_{grpID}_{fctdct[ef]}-{fctdct[cf]}-{tf}.html'\n",
    "        )"
   ]
  },
  {
   "cell_type": "markdown",
   "metadata": {},
   "source": [
    "## Additive CCA"
   ]
  },
  {
   "cell_type": "code",
   "execution_count": null,
   "metadata": {},
   "outputs": [],
   "source": [
    "topfcts = l(product(topfcts[:,0], topfcts[:,1]))"
   ]
  },
  {
   "cell_type": "code",
   "execution_count": null,
   "metadata": {},
   "outputs": [],
   "source": [
    "fid = 4\n",
    "tef,tcf = topfcts[fid]\n",
    "ttabs = _load_sig_corr(tef,tcf,corr_cutoff=0)\n",
    "print(f'{tef} - {tcf} => {len(ttabs)}')"
   ]
  },
  {
   "cell_type": "code",
   "execution_count": null,
   "metadata": {},
   "outputs": [],
   "source": [
    "def _cc(x,y):\n",
    "    vx, vy = (x != 0), (y != 0)\n",
    "    if (np.sum(vx) < 3 or np.sum(vy) < 3) or \\\n",
    "       (np.sum(np.logical_and(~vx, ~vy))/np.sum(np.logical_or(vx, vy)) > 0.5) or \\\n",
    "       (np.isclose(np.var(x),0) or np.isclose(np.var(y),0)): return np.nan\n",
    "    return np.corrcoef(x,y)[0,1]\n",
    "\n",
    "def _sig_joint_corr(ttab):    \n",
    "    dss = [ttab[0].append(ttab[1],axis=1), ttab[2]]\n",
    "    wds = [dss[0].nrow] \n",
    "    # wds = np.arange(5,dss[0].nrow+1)\n",
    "    ttf = str(dss[1].cols_[0])\n",
    "\n",
    "    cca = RGCCA(n_components = 1).fit(smap(dss, lambda x: x.X_))\n",
    "    projs = cca.projections_\n",
    "    \n",
    "    y = projs[0][:,0]\n",
    "    x = dss[1].X_[:,0]\n",
    "    res = smap(wds, lambda w: _corrw(x,y,w,None,None))\n",
    "\n",
    "    def _pm(w,p):\n",
    "        ccm = np.array([_cc(\n",
    "            np.random.choice(x, size = w, replace = False),\n",
    "            np.random.choice(y, size = w, replace = False)\n",
    "        ) for _ in range(2000)])\n",
    "        ccm = ccm[~np.isnan(ccm)]\n",
    "        if len(ccm) < 1000: logging.warning('less then 1000 permutations available for [%s]', ttf)\n",
    "        return np.quantile(ccm, 1-p)\n",
    "    cvs = smap(wds, lambda w: _pm(w,0.025))\n",
    "\n",
    "    res = np.array([(st,w,cc) for w,r,c in zip(wds,res,cvs)\n",
    "                              for st,xp,yp,cc,_,_ in r \n",
    "                              if xp >= 0.5 and yp >= 0.5 and np.abs(cc) > 0.5 and cc > c])\n",
    "    if len(res) == 0: return None\n",
    "\n",
    "    res[:,-1] = np.abs(res[:,-1])\n",
    "    res = res[np.lexsort([res[:,-1],res[:,-2]])][::-1]\n",
    "\n",
    "    st,wd,cr = res[0]\n",
    "    st,wd = int(st),int(wd)\n",
    "\n",
    "    crs = np.abs(np.corrcoef(np.hstack([dss[0].X_, dss[1].X_])[st:st+wd].T)[-1,:2])\n",
    "    \n",
    "    pltab = dss[0].append(Table(y.reshape((-1,1)),colnames=['joint effect']), axis=1)\n",
    "\n",
    "    return ttf,(pltab[st:st+wd],dss[1][st:st+wd]),cr,crs,np.all(cr>crs)"
   ]
  },
  {
   "cell_type": "code",
   "execution_count": null,
   "metadata": {},
   "outputs": [],
   "source": [
    "res = drop(smap(ttabs, lambda x: _sig_joint_corr(x[:])), lambda x: x is None or x[-1] == False)\n",
    "print(f'{paste(smap(res,lambda x:x[0]),sep=\"; \")}')"
   ]
  },
  {
   "cell_type": "code",
   "execution_count": null,
   "metadata": {},
   "outputs": [],
   "source": [
    "for ttf,(ds0,ds1),cr,_,_ in res:\n",
    "    fig = _plot_corr(\n",
    "        ds0, ds1,\n",
    "        std = True,\n",
    "        title = f'taxon - joint effect corr = {cr:.2f}',\n",
    "        legend = True,\n",
    "    )\n",
    "    fig.write_html(\n",
    "        f'results/{otuID}/figs/corr_multi/Additive_Corr_{grpID}_{fctdct[tef]}-{fctdct[tcf]}-{ttf}.html'\n",
    "    )    "
   ]
  },
  {
   "cell_type": "code",
   "execution_count": null,
   "metadata": {},
   "outputs": [],
   "source": [
    "for ttf,(ds0,ds1),cr,_,_ in res:\n",
    "    ods = ds1.append(ds0,axis=1)\n",
    "    ods.savecsv(\n",
    "        f'results/{otuID}/tables/Additive_Corr_{grpID}_{fctdct[tef]}-{fctdct[tcf]}-{ttf}.csv',\n",
    "        transpose = False,\n",
    "    )"
   ]
  },
  {
   "cell_type": "code",
   "execution_count": null,
   "metadata": {},
   "outputs": [],
   "source": [
    "for ttf,(ds0,ds1),cr,_,_ in res:\n",
    "    ef,cf = ds0.cols_[:2]\n",
    "\n",
    "    etab = envtab[ds0.rows_,ef]\n",
    "    ctab = cpdtab[ds0.rows_,cpdtab.cidx_['class'] == cf[:-5]]\n",
    "    ttab = taxtab[ds1.rows_,ttf]\n",
    "    \n",
    "    ccrs = np.array(smap(ctab.X_.T, lambda x: _corr(x,ttab.X_.ravel(),None,None)[2]))\n",
    "    cids = np.argsort(ccrs)\n",
    "    cids = cids[np.logical_and(ccrs[cids] < -0.5, ~np.isnan(ccrs[cids]))][:10]\n",
    "    cpds = np.array(ctab.cols_[cids])\n",
    "    if len(cpds) == 0: continue\n",
    "        \n",
    "    fig = _plot_corr(\n",
    "        etab.append(ctab[:,cpds], axis = 1), ttab,\n",
    "        std = True,\n",
    "        title = f'taxon - joint effect corr = {cr:.2f}',\n",
    "        legend = True,\n",
    "    )\n",
    "    fig.write_html(\n",
    "        f'results/{otuID}/figs/corr_multi/Additive_Corr_{grpID}_{fctdct[tef]}-{fctdct[tcf]}-{ttf}_cpds.html'\n",
    "    )"
   ]
  },
  {
   "cell_type": "code",
   "execution_count": null,
   "metadata": {},
   "outputs": [],
   "source": [
    "for ttf,(ds0,ds1),cr,_,_ in res:\n",
    "    ef,cf = ds0.cols_[:2]\n",
    "\n",
    "    etab = envtab[ds0.rows_,ef]\n",
    "    ctab = cpdtab[ds0.rows_,cpdtab.cidx_['class'] == cf[:-5]]\n",
    "    ttab = taxtab[ds1.rows_,ttf]\n",
    "    \n",
    "    ccrs = np.array(smap(ctab.X_.T, lambda x: _corr(x,ttab.X_.ravel(),None,None)[2]))\n",
    "    cids = np.argsort(ccrs)\n",
    "    \n",
    "    cids = cids[np.logical_and(ccrs[cids] < -0.5, ~np.isnan(ccrs[cids]))]\n",
    "    # cids = cids[:10]\n",
    "    cpds = np.array(ctab.cols_[cids])\n",
    "    ccrs = ccrs[cids]\n",
    "    if len(cpds) == 0: continue\n",
    "    \n",
    "    otab = ttab.append(etab.append(ctab[:,cpds], axis = 1), axis=1)\n",
    "    otab.cidx_ = {'corr': np.hstack([[np.nan,np.nan],ccrs])}\n",
    "        \n",
    "    otab.savecsv(\n",
    "        # f'results/{otuID}/tables/Additive_Corr_{grpID}_{fctdct[tef]}-{fctdct[tcf]}-{ttf}_cpds.csv',\n",
    "        f'results/{otuID}/tables/Additive_Corr_{grpID}_{fctdct[tef]}-{fctdct[tcf]}-{ttf}_cpds_all.csv',\n",
    "        transpose = False,\n",
    "    )"
   ]
  },
  {
   "cell_type": "markdown",
   "metadata": {},
   "source": [
    "# Summary"
   ]
  },
  {
   "cell_type": "code",
   "execution_count": null,
   "metadata": {},
   "outputs": [],
   "source": [
    "summ_tabs = dict(smap(\n",
    "    ('16sv1', '16sv4', '18s', 'coi', 'rbcl'),\n",
    "    lambda x: (x, Table.loadcsv(f'results/{x}/tables/Summary_D4_corrs.csv')),\n",
    "))"
   ]
  },
  {
   "cell_type": "code",
   "execution_count": null,
   "metadata": {},
   "outputs": [],
   "source": [
    "sig_tab = np.array(tablePortal.loadcsv('results/sig_corr_summary.csv'))[1:]\n",
    "sig_tab.shape"
   ]
  },
  {
   "cell_type": "code",
   "execution_count": null,
   "metadata": {},
   "outputs": [],
   "source": [
    "fctmap = {\n",
    "    'Fungicide':                'Fungicide', \n",
    "    'Herbicide':                'Herbicide', \n",
    "    'Insecticide':              'Insecticide',\n",
    "    'Pesticide':                'Pesticide',\n",
    "    'Highest_temp':             'Highest_temp',\n",
    "    'Lowest_temp':              'Lowest_temp', \n",
    "    'Mean_minimum_temperature': 'Yearly_daily_min_temp', \n",
    "    'Summer_mean_temp':         'Jun-aug_mean_temp',\n",
    "    'Max_24h_precipitation':    'Max_24h_precipitation',\n",
    "    'Annual_total_precip':      'Annual_total_precip', \n",
    "    'Summer_total_precip':      'Jun-aug_total_precip',\n",
    "    'Summer_mean_atm_hPa':      'Jun-aug_mean_atm_hPa',\n",
    "}"
   ]
  },
  {
   "cell_type": "code",
   "execution_count": null,
   "metadata": {},
   "outputs": [],
   "source": [
    "def _find_cor(otab, fct, tax):\n",
    "    rid = f'{fctmap[fct]}_correlation'\n",
    "    assert rid in otab.rows_, f'{rid} not found'\n",
    "\n",
    "    cid = f'f__{tax}'\n",
    "    if cid not in otab.cols_: \n",
    "        cid = pick(otab.cols_, lambda x: tax in x)\n",
    "        assert len(cid) == 1, f'multiple {cid} found'\n",
    "        cid = cid[0]\n",
    "    \n",
    "    cor = otab[rid,cid].X_[0,0]\n",
    "    return cor"
   ]
  },
  {
   "cell_type": "code",
   "execution_count": null,
   "metadata": {},
   "outputs": [],
   "source": [
    "cors = smap(\n",
    "    sig_tab,\n",
    "    unpack(lambda o,f,t: _find_cor(summ_tabs[o], f, t))\n",
    ")"
   ]
  },
  {
   "cell_type": "code",
   "execution_count": null,
   "metadata": {},
   "outputs": [],
   "source": []
  }
 ],
 "metadata": {
  "kernelspec": {
   "display_name": "Python 3 (ipykernel)",
   "language": "python",
   "name": "python3"
  },
  "language_info": {
   "codemirror_mode": {
    "name": "ipython",
    "version": 3
   },
   "file_extension": ".py",
   "mimetype": "text/x-python",
   "name": "python",
   "nbconvert_exporter": "python",
   "pygments_lexer": "ipython3",
   "version": "3.9.7"
  },
  "toc-autonumbering": true
 },
 "nbformat": 4,
 "nbformat_minor": 4
}
